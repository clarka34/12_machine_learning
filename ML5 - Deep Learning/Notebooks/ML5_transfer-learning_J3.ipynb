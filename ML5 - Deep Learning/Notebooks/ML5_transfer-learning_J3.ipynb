{
 "cells": [
  {
   "cell_type": "markdown",
   "id": "c8d60243",
   "metadata": {},
   "source": [
    "# Import libraries"
   ]
  },
  {
   "cell_type": "code",
   "execution_count": null,
   "id": "9f9bcbad",
   "metadata": {},
   "outputs": [],
   "source": [
    "import matplotlib.pyplot as plt\n",
    "import numpy as np\n",
    "import os\n",
    "import PIL\n",
    "import tensorflow as tf\n",
    "\n",
    "from tensorflow import keras\n",
    "from tensorflow.keras import layers\n",
    "from tensorflow.keras.models import Sequential"
   ]
  },
  {
   "cell_type": "code",
   "execution_count": 1,
   "id": "2c36353b",
   "metadata": {},
   "outputs": [
    {
     "name": "stdout",
     "output_type": "stream",
     "text": [
      "['Zebra', 'Giraffe', 'Dolphin', 'Kangaroo', 'Bear', 'Tiger', 'Panda', 'Deer', 'Bird', 'Dog', 'Elephant', 'Lion', 'Cow', 'Horse', 'Cat']\n"
     ]
    }
   ],
   "source": [
    "import os\n",
    "import shutil\n",
    "import numpy as np\n",
    "import random \n",
    "\n",
    "folder_path = \"../Data/animal_data/\" # Put the path to your dataset\n",
    "ratio_train = .8 # Ratio of images in the train dataset\n",
    "\n",
    "directories = os.listdir(folder_path)\n",
    "\n",
    "print(directories)"
   ]
  },
  {
   "cell_type": "code",
   "execution_count": 2,
   "id": "31104c99",
   "metadata": {},
   "outputs": [],
   "source": [
    "for dir in directories: \n",
    "    src_dir = folder_path + dir\n",
    "    files = [f for f in os.listdir(src_dir) if os.path.isfile(os.path.join(src_dir, f))]\n",
    "    n_files = len(files)\n",
    "    train_size = round(ratio_train * n_files)\n",
    "    idx_train = random.sample(range(n_files), train_size)\n",
    "    idx_test = list(set(range(n_files)) - set(idx_train))\n",
    "    dst_dir = folder_path + '_train/' + dir + '/'\n",
    "\n",
    "# Make sure destination folder exists\n",
    "    os.makedirs(dst_dir, exist_ok=True)\n",
    "\n",
    "# Loop over selected indices and copy files\n",
    "    for idx in idx_train:\n",
    "        file_name = files[idx]\n",
    "        src_path = os.path.join(src_dir, file_name)\n",
    "        dst_path = os.path.join(dst_dir, file_name)\n",
    "        shutil.copy(src_path, dst_path)\n",
    "    dst_dir = folder_path + '_test/' + dir + '/'\n",
    "\n",
    "# Make sure destination folder exists\n",
    "    os.makedirs(dst_dir, exist_ok=True)\n",
    "\n",
    "# Loop over selected indices and copy files\n",
    "    for idx in idx_test:\n",
    "        file_name = files[idx]\n",
    "        src_path = os.path.join(src_dir, file_name)\n",
    "        dst_path = os.path.join(dst_dir, file_name)\n",
    "        shutil.copy(src_path, dst_path)"
   ]
  },
  {
   "cell_type": "code",
   "execution_count": null,
   "id": "a70d74d2",
   "metadata": {},
   "outputs": [],
   "source": [
    "image_gen = ImageDataGenerator(rescale=1.0/255, horizontal_flip=True)\n",
    "\n",
    "train_data_gen = image_gen.flow_from_directory(batch_size=BATCH_SIZE, directory=train_dir, target_size=(IMG_SHAPE,IMG_SHAPE), shuffle=True)\n",
    "\n",
    "augmented_images = [train_data_gen[0][0][0] for i in range(5)]"
   ]
  },
  {
   "cell_type": "code",
   "execution_count": null,
   "id": "a4005c08",
   "metadata": {},
   "outputs": [],
   "source": [
    "train_generator = train_datagen.flow_from_directory(\n",
    "    directory = \"../Data/animal_data/_train/\",\n",
    "    target_size=(224, 224),\n",
    "    color_mode=\"rgb\",\n",
    "    batch_size=32,\n",
    "    class_mode=\"categorical\",\n",
    "    shuffle=True,\n",
    "    seed=42\n",
    ")"
   ]
  }
 ],
 "metadata": {
  "kernelspec": {
   "display_name": "tensor",
   "language": "python",
   "name": "python3"
  },
  "language_info": {
   "codemirror_mode": {
    "name": "ipython",
    "version": 3
   },
   "file_extension": ".py",
   "mimetype": "text/x-python",
   "name": "python",
   "nbconvert_exporter": "python",
   "pygments_lexer": "ipython3",
   "version": "3.11.13"
  }
 },
 "nbformat": 4,
 "nbformat_minor": 5
}
