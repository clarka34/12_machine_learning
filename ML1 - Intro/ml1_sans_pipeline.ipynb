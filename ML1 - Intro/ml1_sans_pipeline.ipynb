{
 "cells": [
  {
   "cell_type": "markdown",
   "id": "16c42080",
   "metadata": {},
   "source": [
    "# Import modules"
   ]
  },
  {
   "cell_type": "code",
   "execution_count": 1,
   "id": "1f6078e2",
   "metadata": {},
   "outputs": [],
   "source": [
    "import missingno as msno\n",
    "import numpy as np\n",
    "import pandas as pd\n",
    "import seaborn as sns\n",
    "\n",
    "import matplotlib.pyplot as plt\n",
    "\n",
    "from sklearn import svm\n",
    "from scipy.stats import loguniform\n",
    "from sklearn.compose import ColumnTransformer\n",
    "from sklearn.dummy import DummyClassifier\n",
    "from sklearn.ensemble import GradientBoostingRegressor, HistGradientBoostingRegressor, RandomForestRegressor\n",
    "from sklearn.impute import SimpleImputer\n",
    "from sklearn.model_selection import cross_val_score, GridSearchCV, RandomizedSearchCV\n",
    "from sklearn.linear_model import ElasticNet, Lasso, LinearRegression, Ridge\n",
    "from sklearn.linear_model import ElasticNetCV, LassoCV, LinearRegression, RidgeCV\n",
    "from sklearn.metrics import accuracy_score, classification_report, confusion_matrix\n",
    "from sklearn.metrics import mean_squared_error, r2_score\n",
    "from sklearn.model_selection import train_test_split, StratifiedShuffleSplit\n",
    "from sklearn.naive_bayes import GaussianNB\n",
    "from sklearn.pipeline import Pipeline\n",
    "from sklearn.preprocessing import OneHotEncoder, OrdinalEncoder, StandardScaler\n",
    "from sklearn.svm import SVR\n",
    "from sklearn.tree import DecisionTreeRegressor"
   ]
  },
  {
   "cell_type": "markdown",
   "id": "bc65f2d8",
   "metadata": {},
   "source": [
    "# Import the pickle"
   ]
  },
  {
   "cell_type": "code",
   "execution_count": 2,
   "id": "5f3f5a97",
   "metadata": {},
   "outputs": [],
   "source": [
    "df_arbres = pd.read_pickle('./data/arbres.pkl')"
   ]
  },
  {
   "cell_type": "code",
   "execution_count": 3,
   "id": "31813c51",
   "metadata": {},
   "outputs": [
    {
     "data": {
      "text/plain": [
       "Index(['sous_categorie', 'code_parent', 'adr_secteur', 'genre_bota', 'espece',\n",
       "       'stadededeveloppement', 'anneedeplantation', 'collectivite',\n",
       "       'hauteurarbre', 'portarbre', 'latitude', 'longitude'],\n",
       "      dtype='object')"
      ]
     },
     "execution_count": 3,
     "metadata": {},
     "output_type": "execute_result"
    }
   ],
   "source": [
    "df_arbres.columns"
   ]
  },
  {
   "cell_type": "code",
   "execution_count": 4,
   "id": "52e10456",
   "metadata": {},
   "outputs": [],
   "source": [
    "# col = ['sous_categorie', 'genre_bota', 'stadededeveloppement', 'anneedeplantation', 'latitude', 'longitude', 'espece', 'hauteurarbre']\n",
    "# df_arbres = df_arbres[col]"
   ]
  },
  {
   "cell_type": "code",
   "execution_count": 5,
   "id": "6698c4de",
   "metadata": {},
   "outputs": [],
   "source": [
    "df_arbres = df_arbres.drop(['code_parent', 'collectivite', 'portarbre', 'adr_secteur'], axis=1)\n",
    "#df_arbres = df_arbres.drop(['latitude', 'longitude'], axis=1)\n"
   ]
  },
  {
   "cell_type": "code",
   "execution_count": 6,
   "id": "c905ae73",
   "metadata": {},
   "outputs": [
    {
     "data": {
      "text/html": [
       "<div>\n",
       "<style scoped>\n",
       "    .dataframe tbody tr th:only-of-type {\n",
       "        vertical-align: middle;\n",
       "    }\n",
       "\n",
       "    .dataframe tbody tr th {\n",
       "        vertical-align: top;\n",
       "    }\n",
       "\n",
       "    .dataframe thead th {\n",
       "        text-align: right;\n",
       "    }\n",
       "</style>\n",
       "<table border=\"1\" class=\"dataframe\">\n",
       "  <thead>\n",
       "    <tr style=\"text-align: right;\">\n",
       "      <th></th>\n",
       "      <th>sous_categorie</th>\n",
       "      <th>genre_bota</th>\n",
       "      <th>espece</th>\n",
       "      <th>stadededeveloppement</th>\n",
       "      <th>anneedeplantation</th>\n",
       "      <th>hauteurarbre</th>\n",
       "      <th>latitude</th>\n",
       "      <th>longitude</th>\n",
       "    </tr>\n",
       "  </thead>\n",
       "  <tbody>\n",
       "    <tr>\n",
       "      <th>0</th>\n",
       "      <td>ESP151</td>\n",
       "      <td>Prunus</td>\n",
       "      <td>serrulata</td>\n",
       "      <td>Arbre jeune</td>\n",
       "      <td>2015.0</td>\n",
       "      <td>NaN</td>\n",
       "      <td>45.167098</td>\n",
       "      <td>5.740132</td>\n",
       "    </tr>\n",
       "    <tr>\n",
       "      <th>1</th>\n",
       "      <td>ESP151</td>\n",
       "      <td>Prunus</td>\n",
       "      <td>serrulata</td>\n",
       "      <td>Arbre jeune</td>\n",
       "      <td>2015.0</td>\n",
       "      <td>NaN</td>\n",
       "      <td>45.167107</td>\n",
       "      <td>5.740200</td>\n",
       "    </tr>\n",
       "    <tr>\n",
       "      <th>2</th>\n",
       "      <td>ESP151</td>\n",
       "      <td>Prunus</td>\n",
       "      <td>serrulata</td>\n",
       "      <td>Arbre jeune</td>\n",
       "      <td>2015.0</td>\n",
       "      <td>NaN</td>\n",
       "      <td>45.167115</td>\n",
       "      <td>5.740266</td>\n",
       "    </tr>\n",
       "    <tr>\n",
       "      <th>3</th>\n",
       "      <td>ESP151</td>\n",
       "      <td>Prunus</td>\n",
       "      <td>serrulata</td>\n",
       "      <td>Arbre jeune</td>\n",
       "      <td>2015.0</td>\n",
       "      <td>NaN</td>\n",
       "      <td>45.167127</td>\n",
       "      <td>5.740349</td>\n",
       "    </tr>\n",
       "    <tr>\n",
       "      <th>4</th>\n",
       "      <td>ESP151</td>\n",
       "      <td>Prunus</td>\n",
       "      <td>serrulata</td>\n",
       "      <td>Arbre jeune</td>\n",
       "      <td>2015.0</td>\n",
       "      <td>NaN</td>\n",
       "      <td>45.167144</td>\n",
       "      <td>5.740471</td>\n",
       "    </tr>\n",
       "  </tbody>\n",
       "</table>\n",
       "</div>"
      ],
      "text/plain": [
       "  sous_categorie genre_bota     espece stadededeveloppement  \\\n",
       "0         ESP151     Prunus  serrulata          Arbre jeune   \n",
       "1         ESP151     Prunus  serrulata          Arbre jeune   \n",
       "2         ESP151     Prunus  serrulata          Arbre jeune   \n",
       "3         ESP151     Prunus  serrulata          Arbre jeune   \n",
       "4         ESP151     Prunus  serrulata          Arbre jeune   \n",
       "\n",
       "   anneedeplantation hauteurarbre   latitude  longitude  \n",
       "0             2015.0          NaN  45.167098   5.740132  \n",
       "1             2015.0          NaN  45.167107   5.740200  \n",
       "2             2015.0          NaN  45.167115   5.740266  \n",
       "3             2015.0          NaN  45.167127   5.740349  \n",
       "4             2015.0          NaN  45.167144   5.740471  "
      ]
     },
     "execution_count": 6,
     "metadata": {},
     "output_type": "execute_result"
    }
   ],
   "source": [
    "df_arbres.head()"
   ]
  },
  {
   "cell_type": "markdown",
   "id": "d202bd4a",
   "metadata": {},
   "source": [
    "# Split the data frame into testing and training sets"
   ]
  },
  {
   "cell_type": "code",
   "execution_count": 7,
   "id": "45639dbc",
   "metadata": {},
   "outputs": [],
   "source": [
    "pred_col = 'anneedeplantation'"
   ]
  },
  {
   "cell_type": "code",
   "execution_count": 8,
   "id": "32866d17",
   "metadata": {},
   "outputs": [],
   "source": [
    "X_train, X_test, y_train, y_test = train_test_split(df_arbres.drop(pred_col, axis=1),\n",
    "                                                    df_arbres[pred_col], \n",
    "                                                    test_size=0.2, \n",
    "                                                    random_state=42,\n",
    "                                                    stratify=df_arbres[pred_col])"
   ]
  },
  {
   "cell_type": "markdown",
   "id": "7ff2a3e4",
   "metadata": {},
   "source": [
    "# Explore the training data further"
   ]
  },
  {
   "cell_type": "code",
   "execution_count": 9,
   "id": "cf7e9913",
   "metadata": {},
   "outputs": [],
   "source": [
    "# create copy of the training data set to explore\n",
    "df_explore = X_train.copy()"
   ]
  },
  {
   "cell_type": "code",
   "execution_count": 10,
   "id": "a00de86f",
   "metadata": {},
   "outputs": [
    {
     "data": {
      "text/plain": [
       "sous_categorie             0\n",
       "genre_bota                32\n",
       "espece                   986\n",
       "stadededeveloppement    2006\n",
       "hauteurarbre            4652\n",
       "latitude                   0\n",
       "longitude                  0\n",
       "dtype: int64"
      ]
     },
     "execution_count": 10,
     "metadata": {},
     "output_type": "execute_result"
    }
   ],
   "source": [
    "df_explore.isna().sum()"
   ]
  },
  {
   "cell_type": "code",
   "execution_count": 11,
   "id": "1cc3f5c8",
   "metadata": {},
   "outputs": [],
   "source": [
    "numerics = ['int16', 'int32', 'int64', 'float16', 'float32', 'float64']\n",
    "\n",
    "col_num = df_explore.select_dtypes(include=numerics).columns\n",
    "col_cat = df_explore.select_dtypes(exclude=numerics).columns"
   ]
  },
  {
   "cell_type": "code",
   "execution_count": 12,
   "id": "e6b3727d",
   "metadata": {},
   "outputs": [
    {
     "data": {
      "text/plain": [
       "Index(['sous_categorie', 'genre_bota', 'espece', 'stadededeveloppement',\n",
       "       'hauteurarbre'],\n",
       "      dtype='object')"
      ]
     },
     "execution_count": 12,
     "metadata": {},
     "output_type": "execute_result"
    }
   ],
   "source": [
    "col_cat"
   ]
  },
  {
   "cell_type": "code",
   "execution_count": 13,
   "id": "fadef357",
   "metadata": {},
   "outputs": [
    {
     "data": {
      "text/plain": [
       "Index(['latitude', 'longitude'], dtype='object')"
      ]
     },
     "execution_count": 13,
     "metadata": {},
     "output_type": "execute_result"
    }
   ],
   "source": [
    "col_num"
   ]
  },
  {
   "cell_type": "markdown",
   "id": "0589b6bf",
   "metadata": {},
   "source": [
    "## Fill empty values"
   ]
  },
  {
   "cell_type": "code",
   "execution_count": 14,
   "id": "40baab3d",
   "metadata": {},
   "outputs": [
    {
     "data": {
      "text/plain": [
       "sous_categorie          0\n",
       "genre_bota              0\n",
       "espece                  0\n",
       "stadededeveloppement    0\n",
       "hauteurarbre            0\n",
       "latitude                0\n",
       "longitude               0\n",
       "dtype: int64"
      ]
     },
     "execution_count": 14,
     "metadata": {},
     "output_type": "execute_result"
    }
   ],
   "source": [
    "imp = SimpleImputer(strategy='most_frequent')\n",
    "df_explore[col_cat] = imp.fit_transform(df_explore[col_cat])\n",
    "X_test[col_cat] = imp.transform(X_test[col_cat])\n",
    "df_explore.isna().sum()"
   ]
  },
  {
   "cell_type": "markdown",
   "id": "970c48e0",
   "metadata": {},
   "source": [
    "## Standardize the quantative data"
   ]
  },
  {
   "cell_type": "code",
   "execution_count": 15,
   "id": "f5ad96fa",
   "metadata": {},
   "outputs": [],
   "source": [
    "# create a StandardScaler object\n",
    "scaler = StandardScaler().set_output()\n",
    "\n",
    "# fit and transform the data\n",
    "df_explore[col_num] = scaler.fit_transform(df_explore[col_num])\n",
    "X_test[col_num] = scaler.transform(X_test[col_num])"
   ]
  },
  {
   "cell_type": "markdown",
   "id": "dc54882c",
   "metadata": {},
   "source": [
    "## Encode the qualitative data"
   ]
  },
  {
   "cell_type": "code",
   "execution_count": 16,
   "id": "5e8f1bb8",
   "metadata": {},
   "outputs": [
    {
     "data": {
      "text/plain": [
       "espece                  276\n",
       "genre_bota              115\n",
       "sous_categorie            4\n",
       "stadededeveloppement      3\n",
       "hauteurarbre              3\n",
       "dtype: int64"
      ]
     },
     "execution_count": 16,
     "metadata": {},
     "output_type": "execute_result"
    }
   ],
   "source": [
    "df_explore[col_cat].nunique().sort_values(ascending=False)"
   ]
  },
  {
   "cell_type": "code",
   "execution_count": 17,
   "id": "2cb7c053",
   "metadata": {},
   "outputs": [],
   "source": [
    "enc = OneHotEncoder(sparse_output=False, handle_unknown='ignore')\n",
    "test = enc.fit(df_explore[col_cat])\n",
    "\n",
    "# Create an encoder \n",
    "encoder= OneHotEncoder(sparse_output=False, handle_unknown='ignore') \n",
    " \n",
    "# Train encoder using multiple columns\n",
    "encoder.fit(df_explore[col_cat]) \n",
    " \n",
    "# Get encoded column names \n",
    "encoded_columns=encoder.get_feature_names_out() \n",
    " \n",
    "# Transform data using the trained encoder \n",
    "encoded_data = encoder.transform(df_explore[col_cat])\n",
    "encoded_data2 = encoder.transform(X_test[col_cat])\n",
    " \n",
    "# Create a dataframe using the encoded data \n",
    "encoded_df = pd.DataFrame(encoded_data, columns=encoded_columns)\n",
    "encoded_df2 = pd.DataFrame(encoded_data2, columns=encoded_columns) \n",
    "\n",
    "df_explore = df_explore.reset_index().drop('index', axis=1)\n",
    "df_explore = df_explore.drop(col_cat, axis=1)\n",
    "X_test = X_test.reset_index().drop('index', axis=1)\n",
    "X_test = X_test.drop(col_cat, axis=1)\n",
    "\n",
    "df_explore = df_explore.join(encoded_df)\n",
    "X_test = X_test.join(encoded_df2)"
   ]
  },
  {
   "cell_type": "code",
   "execution_count": 18,
   "id": "9bed7f88",
   "metadata": {},
   "outputs": [],
   "source": [
    "# oe = OrdinalEncoder(handle_unknown='use_encoded_value', unknown_value=280)\n",
    "# df_explore[col_cat] = oe.fit_transform(df_explore[col_cat])\n",
    "# X_train_pip = oe.transform(X_train)\n",
    "# X_test_pip = oe.transform(X_test)"
   ]
  },
  {
   "cell_type": "code",
   "execution_count": 19,
   "id": "dd666ce3",
   "metadata": {},
   "outputs": [],
   "source": [
    "X_train = df_explore.copy()"
   ]
  },
  {
   "cell_type": "code",
   "execution_count": 20,
   "id": "9a805369",
   "metadata": {},
   "outputs": [
    {
     "data": {
      "text/html": [
       "<div>\n",
       "<style scoped>\n",
       "    .dataframe tbody tr th:only-of-type {\n",
       "        vertical-align: middle;\n",
       "    }\n",
       "\n",
       "    .dataframe tbody tr th {\n",
       "        vertical-align: top;\n",
       "    }\n",
       "\n",
       "    .dataframe thead th {\n",
       "        text-align: right;\n",
       "    }\n",
       "</style>\n",
       "<table border=\"1\" class=\"dataframe\">\n",
       "  <thead>\n",
       "    <tr style=\"text-align: right;\">\n",
       "      <th></th>\n",
       "      <th>latitude</th>\n",
       "      <th>longitude</th>\n",
       "      <th>sous_categorie_ESP065</th>\n",
       "      <th>sous_categorie_ESP151</th>\n",
       "      <th>sous_categorie_ESP174</th>\n",
       "      <th>sous_categorie_ESP187</th>\n",
       "      <th>genre_bota_Abies</th>\n",
       "      <th>genre_bota_Acacia</th>\n",
       "      <th>genre_bota_Acer</th>\n",
       "      <th>genre_bota_Aesculus</th>\n",
       "      <th>...</th>\n",
       "      <th>espece_wallichiana</th>\n",
       "      <th>espece_wislizeni</th>\n",
       "      <th>espece_yedoensis</th>\n",
       "      <th>espece_zoeschense</th>\n",
       "      <th>stadededeveloppement_Arbre adulte</th>\n",
       "      <th>stadededeveloppement_Arbre jeune</th>\n",
       "      <th>stadededeveloppement_Arbre vieillissant</th>\n",
       "      <th>hauteurarbre_Moins de 10 m</th>\n",
       "      <th>hauteurarbre_Plus de 20 m</th>\n",
       "      <th>hauteurarbre_de 10 m à 20 m</th>\n",
       "    </tr>\n",
       "  </thead>\n",
       "  <tbody>\n",
       "    <tr>\n",
       "      <th>0</th>\n",
       "      <td>-0.088278</td>\n",
       "      <td>-0.422605</td>\n",
       "      <td>0.0</td>\n",
       "      <td>0.0</td>\n",
       "      <td>1.0</td>\n",
       "      <td>0.0</td>\n",
       "      <td>0.0</td>\n",
       "      <td>0.0</td>\n",
       "      <td>0.0</td>\n",
       "      <td>0.0</td>\n",
       "      <td>...</td>\n",
       "      <td>0.0</td>\n",
       "      <td>0.0</td>\n",
       "      <td>0.0</td>\n",
       "      <td>0.0</td>\n",
       "      <td>1.0</td>\n",
       "      <td>0.0</td>\n",
       "      <td>0.0</td>\n",
       "      <td>0.0</td>\n",
       "      <td>0.0</td>\n",
       "      <td>1.0</td>\n",
       "    </tr>\n",
       "    <tr>\n",
       "      <th>1</th>\n",
       "      <td>-0.872776</td>\n",
       "      <td>0.340067</td>\n",
       "      <td>0.0</td>\n",
       "      <td>0.0</td>\n",
       "      <td>1.0</td>\n",
       "      <td>0.0</td>\n",
       "      <td>0.0</td>\n",
       "      <td>0.0</td>\n",
       "      <td>0.0</td>\n",
       "      <td>0.0</td>\n",
       "      <td>...</td>\n",
       "      <td>0.0</td>\n",
       "      <td>0.0</td>\n",
       "      <td>0.0</td>\n",
       "      <td>0.0</td>\n",
       "      <td>1.0</td>\n",
       "      <td>0.0</td>\n",
       "      <td>0.0</td>\n",
       "      <td>0.0</td>\n",
       "      <td>0.0</td>\n",
       "      <td>1.0</td>\n",
       "    </tr>\n",
       "    <tr>\n",
       "      <th>2</th>\n",
       "      <td>1.171091</td>\n",
       "      <td>-0.458612</td>\n",
       "      <td>0.0</td>\n",
       "      <td>1.0</td>\n",
       "      <td>0.0</td>\n",
       "      <td>0.0</td>\n",
       "      <td>0.0</td>\n",
       "      <td>0.0</td>\n",
       "      <td>1.0</td>\n",
       "      <td>0.0</td>\n",
       "      <td>...</td>\n",
       "      <td>0.0</td>\n",
       "      <td>0.0</td>\n",
       "      <td>0.0</td>\n",
       "      <td>0.0</td>\n",
       "      <td>1.0</td>\n",
       "      <td>0.0</td>\n",
       "      <td>0.0</td>\n",
       "      <td>0.0</td>\n",
       "      <td>0.0</td>\n",
       "      <td>1.0</td>\n",
       "    </tr>\n",
       "    <tr>\n",
       "      <th>3</th>\n",
       "      <td>-0.722987</td>\n",
       "      <td>1.046268</td>\n",
       "      <td>0.0</td>\n",
       "      <td>1.0</td>\n",
       "      <td>0.0</td>\n",
       "      <td>0.0</td>\n",
       "      <td>0.0</td>\n",
       "      <td>0.0</td>\n",
       "      <td>0.0</td>\n",
       "      <td>0.0</td>\n",
       "      <td>...</td>\n",
       "      <td>0.0</td>\n",
       "      <td>0.0</td>\n",
       "      <td>0.0</td>\n",
       "      <td>0.0</td>\n",
       "      <td>1.0</td>\n",
       "      <td>0.0</td>\n",
       "      <td>0.0</td>\n",
       "      <td>0.0</td>\n",
       "      <td>0.0</td>\n",
       "      <td>1.0</td>\n",
       "    </tr>\n",
       "    <tr>\n",
       "      <th>4</th>\n",
       "      <td>-0.781879</td>\n",
       "      <td>0.471514</td>\n",
       "      <td>0.0</td>\n",
       "      <td>0.0</td>\n",
       "      <td>1.0</td>\n",
       "      <td>0.0</td>\n",
       "      <td>0.0</td>\n",
       "      <td>0.0</td>\n",
       "      <td>0.0</td>\n",
       "      <td>0.0</td>\n",
       "      <td>...</td>\n",
       "      <td>0.0</td>\n",
       "      <td>0.0</td>\n",
       "      <td>0.0</td>\n",
       "      <td>0.0</td>\n",
       "      <td>1.0</td>\n",
       "      <td>0.0</td>\n",
       "      <td>0.0</td>\n",
       "      <td>0.0</td>\n",
       "      <td>0.0</td>\n",
       "      <td>1.0</td>\n",
       "    </tr>\n",
       "    <tr>\n",
       "      <th>...</th>\n",
       "      <td>...</td>\n",
       "      <td>...</td>\n",
       "      <td>...</td>\n",
       "      <td>...</td>\n",
       "      <td>...</td>\n",
       "      <td>...</td>\n",
       "      <td>...</td>\n",
       "      <td>...</td>\n",
       "      <td>...</td>\n",
       "      <td>...</td>\n",
       "      <td>...</td>\n",
       "      <td>...</td>\n",
       "      <td>...</td>\n",
       "      <td>...</td>\n",
       "      <td>...</td>\n",
       "      <td>...</td>\n",
       "      <td>...</td>\n",
       "      <td>...</td>\n",
       "      <td>...</td>\n",
       "      <td>...</td>\n",
       "      <td>...</td>\n",
       "    </tr>\n",
       "    <tr>\n",
       "      <th>23615</th>\n",
       "      <td>-0.262789</td>\n",
       "      <td>-0.078327</td>\n",
       "      <td>0.0</td>\n",
       "      <td>0.0</td>\n",
       "      <td>1.0</td>\n",
       "      <td>0.0</td>\n",
       "      <td>0.0</td>\n",
       "      <td>0.0</td>\n",
       "      <td>0.0</td>\n",
       "      <td>0.0</td>\n",
       "      <td>...</td>\n",
       "      <td>0.0</td>\n",
       "      <td>0.0</td>\n",
       "      <td>0.0</td>\n",
       "      <td>0.0</td>\n",
       "      <td>0.0</td>\n",
       "      <td>1.0</td>\n",
       "      <td>0.0</td>\n",
       "      <td>0.0</td>\n",
       "      <td>0.0</td>\n",
       "      <td>1.0</td>\n",
       "    </tr>\n",
       "    <tr>\n",
       "      <th>23616</th>\n",
       "      <td>-1.069951</td>\n",
       "      <td>0.665322</td>\n",
       "      <td>0.0</td>\n",
       "      <td>0.0</td>\n",
       "      <td>0.0</td>\n",
       "      <td>1.0</td>\n",
       "      <td>0.0</td>\n",
       "      <td>0.0</td>\n",
       "      <td>0.0</td>\n",
       "      <td>0.0</td>\n",
       "      <td>...</td>\n",
       "      <td>0.0</td>\n",
       "      <td>0.0</td>\n",
       "      <td>0.0</td>\n",
       "      <td>0.0</td>\n",
       "      <td>1.0</td>\n",
       "      <td>0.0</td>\n",
       "      <td>0.0</td>\n",
       "      <td>0.0</td>\n",
       "      <td>0.0</td>\n",
       "      <td>1.0</td>\n",
       "    </tr>\n",
       "    <tr>\n",
       "      <th>23617</th>\n",
       "      <td>-1.152973</td>\n",
       "      <td>-0.098248</td>\n",
       "      <td>0.0</td>\n",
       "      <td>0.0</td>\n",
       "      <td>1.0</td>\n",
       "      <td>0.0</td>\n",
       "      <td>0.0</td>\n",
       "      <td>0.0</td>\n",
       "      <td>1.0</td>\n",
       "      <td>0.0</td>\n",
       "      <td>...</td>\n",
       "      <td>0.0</td>\n",
       "      <td>0.0</td>\n",
       "      <td>0.0</td>\n",
       "      <td>0.0</td>\n",
       "      <td>1.0</td>\n",
       "      <td>0.0</td>\n",
       "      <td>0.0</td>\n",
       "      <td>0.0</td>\n",
       "      <td>0.0</td>\n",
       "      <td>1.0</td>\n",
       "    </tr>\n",
       "    <tr>\n",
       "      <th>23618</th>\n",
       "      <td>-0.919970</td>\n",
       "      <td>-1.585162</td>\n",
       "      <td>1.0</td>\n",
       "      <td>0.0</td>\n",
       "      <td>0.0</td>\n",
       "      <td>0.0</td>\n",
       "      <td>0.0</td>\n",
       "      <td>0.0</td>\n",
       "      <td>0.0</td>\n",
       "      <td>0.0</td>\n",
       "      <td>...</td>\n",
       "      <td>0.0</td>\n",
       "      <td>0.0</td>\n",
       "      <td>0.0</td>\n",
       "      <td>0.0</td>\n",
       "      <td>1.0</td>\n",
       "      <td>0.0</td>\n",
       "      <td>0.0</td>\n",
       "      <td>1.0</td>\n",
       "      <td>0.0</td>\n",
       "      <td>0.0</td>\n",
       "    </tr>\n",
       "    <tr>\n",
       "      <th>23619</th>\n",
       "      <td>1.751442</td>\n",
       "      <td>-0.803302</td>\n",
       "      <td>0.0</td>\n",
       "      <td>1.0</td>\n",
       "      <td>0.0</td>\n",
       "      <td>0.0</td>\n",
       "      <td>0.0</td>\n",
       "      <td>0.0</td>\n",
       "      <td>0.0</td>\n",
       "      <td>0.0</td>\n",
       "      <td>...</td>\n",
       "      <td>0.0</td>\n",
       "      <td>0.0</td>\n",
       "      <td>0.0</td>\n",
       "      <td>0.0</td>\n",
       "      <td>1.0</td>\n",
       "      <td>0.0</td>\n",
       "      <td>0.0</td>\n",
       "      <td>0.0</td>\n",
       "      <td>0.0</td>\n",
       "      <td>1.0</td>\n",
       "    </tr>\n",
       "  </tbody>\n",
       "</table>\n",
       "<p>23620 rows × 403 columns</p>\n",
       "</div>"
      ],
      "text/plain": [
       "       latitude  longitude  sous_categorie_ESP065  sous_categorie_ESP151  \\\n",
       "0     -0.088278  -0.422605                    0.0                    0.0   \n",
       "1     -0.872776   0.340067                    0.0                    0.0   \n",
       "2      1.171091  -0.458612                    0.0                    1.0   \n",
       "3     -0.722987   1.046268                    0.0                    1.0   \n",
       "4     -0.781879   0.471514                    0.0                    0.0   \n",
       "...         ...        ...                    ...                    ...   \n",
       "23615 -0.262789  -0.078327                    0.0                    0.0   \n",
       "23616 -1.069951   0.665322                    0.0                    0.0   \n",
       "23617 -1.152973  -0.098248                    0.0                    0.0   \n",
       "23618 -0.919970  -1.585162                    1.0                    0.0   \n",
       "23619  1.751442  -0.803302                    0.0                    1.0   \n",
       "\n",
       "       sous_categorie_ESP174  sous_categorie_ESP187  genre_bota_Abies  \\\n",
       "0                        1.0                    0.0               0.0   \n",
       "1                        1.0                    0.0               0.0   \n",
       "2                        0.0                    0.0               0.0   \n",
       "3                        0.0                    0.0               0.0   \n",
       "4                        1.0                    0.0               0.0   \n",
       "...                      ...                    ...               ...   \n",
       "23615                    1.0                    0.0               0.0   \n",
       "23616                    0.0                    1.0               0.0   \n",
       "23617                    1.0                    0.0               0.0   \n",
       "23618                    0.0                    0.0               0.0   \n",
       "23619                    0.0                    0.0               0.0   \n",
       "\n",
       "       genre_bota_Acacia  genre_bota_Acer  genre_bota_Aesculus  ...  \\\n",
       "0                    0.0              0.0                  0.0  ...   \n",
       "1                    0.0              0.0                  0.0  ...   \n",
       "2                    0.0              1.0                  0.0  ...   \n",
       "3                    0.0              0.0                  0.0  ...   \n",
       "4                    0.0              0.0                  0.0  ...   \n",
       "...                  ...              ...                  ...  ...   \n",
       "23615                0.0              0.0                  0.0  ...   \n",
       "23616                0.0              0.0                  0.0  ...   \n",
       "23617                0.0              1.0                  0.0  ...   \n",
       "23618                0.0              0.0                  0.0  ...   \n",
       "23619                0.0              0.0                  0.0  ...   \n",
       "\n",
       "       espece_wallichiana  espece_wislizeni  espece_yedoensis  \\\n",
       "0                     0.0               0.0               0.0   \n",
       "1                     0.0               0.0               0.0   \n",
       "2                     0.0               0.0               0.0   \n",
       "3                     0.0               0.0               0.0   \n",
       "4                     0.0               0.0               0.0   \n",
       "...                   ...               ...               ...   \n",
       "23615                 0.0               0.0               0.0   \n",
       "23616                 0.0               0.0               0.0   \n",
       "23617                 0.0               0.0               0.0   \n",
       "23618                 0.0               0.0               0.0   \n",
       "23619                 0.0               0.0               0.0   \n",
       "\n",
       "       espece_zoeschense  stadededeveloppement_Arbre adulte  \\\n",
       "0                    0.0                                1.0   \n",
       "1                    0.0                                1.0   \n",
       "2                    0.0                                1.0   \n",
       "3                    0.0                                1.0   \n",
       "4                    0.0                                1.0   \n",
       "...                  ...                                ...   \n",
       "23615                0.0                                0.0   \n",
       "23616                0.0                                1.0   \n",
       "23617                0.0                                1.0   \n",
       "23618                0.0                                1.0   \n",
       "23619                0.0                                1.0   \n",
       "\n",
       "       stadededeveloppement_Arbre jeune  \\\n",
       "0                                   0.0   \n",
       "1                                   0.0   \n",
       "2                                   0.0   \n",
       "3                                   0.0   \n",
       "4                                   0.0   \n",
       "...                                 ...   \n",
       "23615                               1.0   \n",
       "23616                               0.0   \n",
       "23617                               0.0   \n",
       "23618                               0.0   \n",
       "23619                               0.0   \n",
       "\n",
       "       stadededeveloppement_Arbre vieillissant  hauteurarbre_Moins de 10 m  \\\n",
       "0                                          0.0                         0.0   \n",
       "1                                          0.0                         0.0   \n",
       "2                                          0.0                         0.0   \n",
       "3                                          0.0                         0.0   \n",
       "4                                          0.0                         0.0   \n",
       "...                                        ...                         ...   \n",
       "23615                                      0.0                         0.0   \n",
       "23616                                      0.0                         0.0   \n",
       "23617                                      0.0                         0.0   \n",
       "23618                                      0.0                         1.0   \n",
       "23619                                      0.0                         0.0   \n",
       "\n",
       "       hauteurarbre_Plus de 20 m  hauteurarbre_de 10 m à 20 m  \n",
       "0                            0.0                          1.0  \n",
       "1                            0.0                          1.0  \n",
       "2                            0.0                          1.0  \n",
       "3                            0.0                          1.0  \n",
       "4                            0.0                          1.0  \n",
       "...                          ...                          ...  \n",
       "23615                        0.0                          1.0  \n",
       "23616                        0.0                          1.0  \n",
       "23617                        0.0                          1.0  \n",
       "23618                        0.0                          0.0  \n",
       "23619                        0.0                          1.0  \n",
       "\n",
       "[23620 rows x 403 columns]"
      ]
     },
     "execution_count": 20,
     "metadata": {},
     "output_type": "execute_result"
    }
   ],
   "source": [
    "X_train"
   ]
  },
  {
   "cell_type": "markdown",
   "id": "26c8b6f4",
   "metadata": {},
   "source": [
    "# Linear regression"
   ]
  },
  {
   "cell_type": "code",
   "execution_count": 21,
   "id": "0a3032a1",
   "metadata": {},
   "outputs": [],
   "source": [
    "regressor = LinearRegression().fit(X_train, y_train)"
   ]
  },
  {
   "cell_type": "code",
   "execution_count": 22,
   "id": "234ead1f",
   "metadata": {},
   "outputs": [
    {
     "name": "stdout",
     "output_type": "stream",
     "text": [
      "Mean squared error: 164.35\n",
      "Coefficient of determination: 0.50\n"
     ]
    }
   ],
   "source": [
    "y_pred_train = regressor.predict(X_train)\n",
    "y_pred_test = regressor.predict(X_test)\n",
    "\n",
    "print(f\"Mean squared error: {mean_squared_error(y_test, y_pred_test):.2f}\")\n",
    "print(f\"Coefficient of determination: {r2_score(y_test, y_pred_test):.2f}\")"
   ]
  },
  {
   "cell_type": "code",
   "execution_count": 23,
   "id": "3c3a80df",
   "metadata": {},
   "outputs": [
    {
     "name": "stdout",
     "output_type": "stream",
     "text": [
      "-----------------------------------\n",
      "Prediction for the training data\n",
      "MSE: 154.31829990304612\n",
      "RMSE: 12.422491694625766\n",
      "-----------------------------------\n",
      "Prediction for the test data\n",
      "MSE: 164.353143633788\n",
      "RMSE: 12.82002900284504\n",
      "-----------------------------------\n"
     ]
    }
   ],
   "source": [
    "print('-'*35)\n",
    "print('Prediction for the training data')\n",
    "print('MSE:', mean_squared_error(y_train, y_pred_train))\n",
    "print('RMSE:',np.sqrt(mean_squared_error(y_train, y_pred_train)))\n",
    "print('-'*35)\n",
    "print('Prediction for the test data')\n",
    "print('MSE:', mean_squared_error(y_test, y_pred_test))\n",
    "print('RMSE:',np.sqrt(mean_squared_error(y_test, y_pred_test)))\n",
    "print('-'*35)"
   ]
  },
  {
   "cell_type": "markdown",
   "id": "bb684050",
   "metadata": {},
   "source": [
    "## With cross_validation"
   ]
  },
  {
   "cell_type": "code",
   "execution_count": 24,
   "id": "5b456d98",
   "metadata": {},
   "outputs": [
    {
     "name": "stdout",
     "output_type": "stream",
     "text": [
      "-----------------------------------\n",
      "Prediction for the training data\n",
      "mean MSE: 161.57361154422205\n",
      "std MSE: 2.4815273631180323\n",
      "mean RMSE: 12.711160904662565\n",
      "-----------------------------------\n",
      "Prediction for the test data\n",
      "test MSE: 164.353143633788\n",
      "test RMSE: 12.82002900284504\n",
      "-----------------------------------\n"
     ]
    }
   ],
   "source": [
    "lin_reg = LinearRegression()\n",
    "\n",
    "cv_scores = cross_val_score(lin_reg, X_train, y_train, cv=5, scoring='neg_mean_squared_error') \n",
    "\n",
    "print('-'*35)\n",
    "print('Prediction for the training data')\n",
    "print('mean MSE:',np.mean(-cv_scores))\n",
    "print('std MSE:',np.std(-cv_scores))\n",
    "print('mean RMSE:',np.sqrt(np.mean(-cv_scores)))\n",
    "\n",
    "lin_reg.fit(X_train, y_train)\n",
    "\n",
    "# predict y values for testing data set\n",
    "y_pred_test = lin_reg.predict(X_test)\n",
    "\n",
    "# evaluate MSE\n",
    "print('-'*35)\n",
    "print('Prediction for the test data')\n",
    "mse_test = mean_squared_error(y_test, y_pred_test)\n",
    "print('test MSE: {0}'.format(mse_test))\n",
    "print('test RMSE: {0}'.format(np.sqrt(mse_test)))\n",
    "print('-'*35)"
   ]
  },
  {
   "cell_type": "markdown",
   "id": "b545dcec",
   "metadata": {},
   "source": [
    "# Lasso"
   ]
  },
  {
   "cell_type": "code",
   "execution_count": 25,
   "id": "2f037e1c",
   "metadata": {},
   "outputs": [
    {
     "name": "stdout",
     "output_type": "stream",
     "text": [
      "-----------------------------------\n",
      "Prediction for the training data\n",
      "MSE: 250.2658497981459\n",
      "RMSE: 15.819792975830811\n",
      "-----------------------------------\n",
      "Prediction for the test data\n",
      "MSE: 249.7994837260371\n",
      "RMSE: 15.805046147545317\n",
      "-----------------------------------\n"
     ]
    }
   ],
   "source": [
    "model_l = Lasso()\n",
    "\n",
    "model_l.fit(X_train, y_train)\n",
    "y_pred_test = model_l.predict(X_test)\n",
    "y_pred_train = model_l.predict(X_train)\n",
    "\n",
    "print('-'*35)\n",
    "print('Prediction for the training data')\n",
    "print('MSE:', mean_squared_error(y_train, y_pred_train))\n",
    "print('RMSE:',np.sqrt(mean_squared_error(y_train, y_pred_train)))\n",
    "print('-'*35)\n",
    "print('Prediction for the test data')\n",
    "print('MSE:', mean_squared_error(y_test, y_pred_test))\n",
    "print('RMSE:',np.sqrt(mean_squared_error(y_test, y_pred_test)))\n",
    "print('-'*35)"
   ]
  },
  {
   "cell_type": "code",
   "execution_count": 26,
   "id": "8de4847b",
   "metadata": {},
   "outputs": [
    {
     "name": "stdout",
     "output_type": "stream",
     "text": [
      "-----------------------------------\n",
      "Prediction for the training data\n",
      "MSE: 159.62786903202374\n",
      "RMSE: 12.63439230956613\n",
      "-----------------------------------\n",
      "Prediction for the test data\n",
      "MSE: 163.42525219878544\n",
      "RMSE: 12.783788648080249\n",
      "-----------------------------------\n"
     ]
    }
   ],
   "source": [
    "model_lcv = LassoCV(alphas=100)\n",
    "\n",
    "model_lcv.fit(X_train, y_train)\n",
    "y_pred_test = model_lcv.predict(X_test)\n",
    "y_pred_train = model_lcv.predict(X_train)\n",
    "\n",
    "print('-'*35)\n",
    "print('Prediction for the training data')\n",
    "print('MSE:', mean_squared_error(y_train, y_pred_train))\n",
    "print('RMSE:',np.sqrt(mean_squared_error(y_train, y_pred_train)))\n",
    "print('-'*35)\n",
    "print('Prediction for the test data')\n",
    "print('MSE:', mean_squared_error(y_test, y_pred_test))\n",
    "print('RMSE:',np.sqrt(mean_squared_error(y_test, y_pred_test)))\n",
    "print('-'*35)"
   ]
  },
  {
   "cell_type": "markdown",
   "id": "2f79f73a",
   "metadata": {},
   "source": [
    "# Ridge"
   ]
  },
  {
   "cell_type": "code",
   "execution_count": 27,
   "id": "f5b05105",
   "metadata": {},
   "outputs": [
    {
     "name": "stdout",
     "output_type": "stream",
     "text": [
      "-----------------------------------\n",
      "Prediction for the training data\n",
      "MSE: 154.3748418335047\n",
      "RMSE: 12.424767274822683\n",
      "-----------------------------------\n",
      "Prediction for the test data\n",
      "MSE: 162.17504740787226\n",
      "RMSE: 12.734796716393719\n",
      "-----------------------------------\n"
     ]
    }
   ],
   "source": [
    "model_r = Ridge(alpha=0.1)\n",
    "\n",
    "model_r.fit(X_train, y_train)\n",
    "y_pred_test = model_r.predict(X_test)\n",
    "y_pred_train = model_r.predict(X_train)\n",
    "\n",
    "print('-'*35)\n",
    "print('Prediction for the training data')\n",
    "print('MSE:', mean_squared_error(y_train, y_pred_train))\n",
    "print('RMSE:',np.sqrt(mean_squared_error(y_train, y_pred_train)))\n",
    "print('-'*35)\n",
    "print('Prediction for the test data')\n",
    "print('MSE:', mean_squared_error(y_test, y_pred_test))\n",
    "print('RMSE:',np.sqrt(mean_squared_error(y_test, y_pred_test)))\n",
    "print('-'*35)"
   ]
  },
  {
   "cell_type": "markdown",
   "id": "bdb50065",
   "metadata": {},
   "source": [
    "# Elastic net"
   ]
  },
  {
   "cell_type": "code",
   "execution_count": 28,
   "id": "3a728877",
   "metadata": {},
   "outputs": [
    {
     "name": "stdout",
     "output_type": "stream",
     "text": [
      "-----------------------------------\n",
      "Prediction for the training data\n",
      "MSE: 210.99720275324552\n",
      "RMSE: 14.525742760810736\n",
      "-----------------------------------\n",
      "Prediction for the test data\n",
      "MSE: 211.652811925058\n",
      "RMSE: 14.548292405813749\n",
      "-----------------------------------\n"
     ]
    }
   ],
   "source": [
    "model_en = ElasticNet(alpha=0.1)\n",
    "\n",
    "model_en.fit(X_train, y_train)\n",
    "y_pred_test = model_en.predict(X_test)\n",
    "y_pred_train = model_en.predict(X_train)\n",
    "\n",
    "print('-'*35)\n",
    "print('Prediction for the training data')\n",
    "print('MSE:', mean_squared_error(y_train, y_pred_train))\n",
    "print('RMSE:',np.sqrt(mean_squared_error(y_train, y_pred_train)))\n",
    "print('-'*35)\n",
    "print('Prediction for the test data')\n",
    "print('MSE:', mean_squared_error(y_test, y_pred_test))\n",
    "print('RMSE:',np.sqrt(mean_squared_error(y_test, y_pred_test)))\n",
    "print('-'*35)"
   ]
  },
  {
   "cell_type": "markdown",
   "id": "9a7d63c1",
   "metadata": {},
   "source": [
    "# Decision tree"
   ]
  },
  {
   "cell_type": "code",
   "execution_count": 29,
   "id": "90b0aeb9",
   "metadata": {},
   "outputs": [
    {
     "name": "stdout",
     "output_type": "stream",
     "text": [
      "-----------------------------------\n",
      "Prediction for the training data\n",
      "MSE: 76.96121570280717\n",
      "RMSE: 8.772754168606753\n",
      "-----------------------------------\n",
      "Prediction for the test data\n",
      "MSE: 107.41926951964172\n",
      "RMSE: 10.364326775996679\n",
      "-----------------------------------\n"
     ]
    }
   ],
   "source": [
    "model_dt = DecisionTreeRegressor(min_samples_split = 100, splitter='best', random_state=42)\n",
    "\n",
    "model_dt.fit(X_train, y_train)\n",
    "y_pred_test = model_dt.predict(X_test)\n",
    "y_pred_train = model_dt.predict(X_train)\n",
    "\n",
    "print('-'*35)\n",
    "print('Prediction for the training data')\n",
    "print('MSE:', mean_squared_error(y_train, y_pred_train))\n",
    "print('RMSE:',np.sqrt(mean_squared_error(y_train, y_pred_train)))\n",
    "print('-'*35)\n",
    "print('Prediction for the test data')\n",
    "print('MSE:', mean_squared_error(y_test, y_pred_test))\n",
    "print('RMSE:',np.sqrt(mean_squared_error(y_test, y_pred_test)))\n",
    "print('-'*35)"
   ]
  },
  {
   "cell_type": "markdown",
   "id": "4eec5f6c",
   "metadata": {},
   "source": [
    "## With cross_validation"
   ]
  },
  {
   "cell_type": "code",
   "execution_count": 30,
   "id": "01a1d213",
   "metadata": {},
   "outputs": [
    {
     "name": "stdout",
     "output_type": "stream",
     "text": [
      "-----------------------------------\n",
      "Prediction for the training data\n",
      "mean MSE: 118.21063687034105\n",
      "std MSE: 3.7648175679096956\n",
      "mean RMSE: 10.872471516188996\n",
      "-----------------------------------\n",
      "Prediction for the test data\n",
      "test MSE: 107.41926951964172\n",
      "test RMSE: 10.364326775996679\n",
      "-----------------------------------\n"
     ]
    }
   ],
   "source": [
    "model_dt = DecisionTreeRegressor(min_samples_split = 100, splitter='best', random_state=42)\n",
    "\n",
    "cv_scores = cross_val_score(model_dt, X_train, y_train, cv=5, scoring='neg_mean_squared_error') \n",
    "\n",
    "print('-'*35)\n",
    "print('Prediction for the training data')\n",
    "print('mean MSE:',np.mean(-cv_scores))\n",
    "print('std MSE:',np.std(-cv_scores))\n",
    "print('mean RMSE:',np.sqrt(np.mean(-cv_scores)))\n",
    "\n",
    "model_dt.fit(X_train, y_train)\n",
    "\n",
    "# predict y values for testing data set\n",
    "y_pred_test = model_dt.predict(X_test)\n",
    "\n",
    "# evaluate MSE\n",
    "print('-'*35)\n",
    "print('Prediction for the test data')\n",
    "mse_test = mean_squared_error(y_test, y_pred_test)\n",
    "print('test MSE: {0}'.format(mse_test))\n",
    "print('test RMSE: {0}'.format(np.sqrt(mse_test)))\n",
    "print('-'*35)"
   ]
  },
  {
   "cell_type": "markdown",
   "id": "edfd1e3a",
   "metadata": {},
   "source": [
    "# Random Forest"
   ]
  },
  {
   "cell_type": "code",
   "execution_count": 31,
   "id": "26fc51f8",
   "metadata": {},
   "outputs": [
    {
     "name": "stdout",
     "output_type": "stream",
     "text": [
      "-----------------------------------\n",
      "Prediction for the training data\n",
      "MSE: 76.95971024287866\n",
      "RMSE: 8.772668365034589\n",
      "-----------------------------------\n",
      "Prediction for the test data\n",
      "MSE: 106.76413382957656\n",
      "RMSE: 10.332673121200369\n",
      "-----------------------------------\n"
     ]
    }
   ],
   "source": [
    "model_rf = RandomForestRegressor(n_estimators=10, bootstrap=False, min_samples_split = 100, random_state=42)\n",
    "\n",
    "model_rf.fit(X_train, y_train)\n",
    "y_pred_test = model_rf.predict(X_test)\n",
    "y_pred_train = model_rf.predict(X_train)\n",
    "\n",
    "print('-'*35)\n",
    "print('Prediction for the training data')\n",
    "print('MSE:', mean_squared_error(y_train, y_pred_train))\n",
    "print('RMSE:',np.sqrt(mean_squared_error(y_train, y_pred_train)))\n",
    "print('-'*35)\n",
    "print('Prediction for the test data')\n",
    "print('MSE:', mean_squared_error(y_test, y_pred_test))\n",
    "print('RMSE:',np.sqrt(mean_squared_error(y_test, y_pred_test)))\n",
    "print('-'*35)\n"
   ]
  },
  {
   "cell_type": "markdown",
   "id": "5f4e4a66",
   "metadata": {},
   "source": [
    "## With cross_validation"
   ]
  },
  {
   "cell_type": "code",
   "execution_count": 32,
   "id": "e3f776bd",
   "metadata": {},
   "outputs": [
    {
     "name": "stdout",
     "output_type": "stream",
     "text": [
      "-----------------------------------\n",
      "Prediction for the training data\n",
      "mean MSE: 117.53076159290109\n",
      "std MSE: 3.9847980204559685\n",
      "mean RMSE: 10.841160527955532\n",
      "-----------------------------------\n",
      "Prediction for the test data\n",
      "test MSE: 106.76413382957656\n",
      "test RMSE: 10.332673121200369\n",
      "-----------------------------------\n"
     ]
    }
   ],
   "source": [
    "model_rf = RandomForestRegressor(n_estimators=10, bootstrap=False, min_samples_split = 100, random_state=42)\n",
    "\n",
    "cv_scores = cross_val_score(model_rf, X_train, y_train, cv=5, scoring='neg_mean_squared_error') \n",
    "\n",
    "print('-'*35)\n",
    "print('Prediction for the training data')\n",
    "print('mean MSE:',np.mean(-cv_scores))\n",
    "print('std MSE:',np.std(-cv_scores))\n",
    "print('mean RMSE:',np.sqrt(np.mean(-cv_scores)))\n",
    "\n",
    "model_rf.fit(X_train, y_train)\n",
    "\n",
    "# predict y values for testing data set\n",
    "y_pred_test = model_rf.predict(X_test)\n",
    "\n",
    "# evaluate MSE\n",
    "print('-'*35)\n",
    "print('Prediction for the test data')\n",
    "mse_test = mean_squared_error(y_test, y_pred_test)\n",
    "print('test MSE: {0}'.format(mse_test))\n",
    "print('test RMSE: {0}'.format(np.sqrt(mse_test)))\n",
    "print('-'*35)"
   ]
  },
  {
   "cell_type": "markdown",
   "id": "a7e0604e",
   "metadata": {},
   "source": [
    "# Support Vector Machine"
   ]
  },
  {
   "cell_type": "code",
   "execution_count": 33,
   "id": "0fa98b00",
   "metadata": {},
   "outputs": [],
   "source": [
    "# model_svm = svm.SVR()\n",
    "\n",
    "# model_svm.fit(X_train, y_train)\n",
    "# y_pred_test = model_svm.predict(X_test)\n",
    "# y_pred_train = model_svm.predict(X_train)\n",
    "\n",
    "# print('-'*35)\n",
    "# print('Prediction for the training data')\n",
    "# print('MSE:', mean_squared_error(y_train, y_pred_train))\n",
    "# print('RMSE:',np.sqrt(mean_squared_error(y_train, y_pred_train)))\n",
    "# print('-'*35)\n",
    "# print('Prediction for the test data')\n",
    "# print('MSE:', mean_squared_error(y_test, y_pred_test))\n",
    "# print('RMSE:',np.sqrt(mean_squared_error(y_test, y_pred_test)))\n",
    "# print('-'*35)"
   ]
  },
  {
   "cell_type": "markdown",
   "id": "ff7c09df",
   "metadata": {},
   "source": [
    "# Bayesian ridge regression"
   ]
  },
  {
   "cell_type": "code",
   "execution_count": 34,
   "id": "8609ab04",
   "metadata": {},
   "outputs": [
    {
     "name": "stdout",
     "output_type": "stream",
     "text": [
      "-----------------------------------\n",
      "Prediction for the training data\n",
      "MSE: 155.2090561706318\n",
      "RMSE: 12.45829266675943\n",
      "-----------------------------------\n",
      "Prediction for the test data\n",
      "MSE: 160.8622580578977\n",
      "RMSE: 12.683148586131825\n",
      "-----------------------------------\n"
     ]
    }
   ],
   "source": [
    "from sklearn import linear_model\n",
    "\n",
    "model_br = linear_model.BayesianRidge()\n",
    "\n",
    "model_br.fit(X_train, y_train)\n",
    "y_pred_test = model_br.predict(X_test)\n",
    "y_pred_train = model_br.predict(X_train)\n",
    "\n",
    "print('-'*35)\n",
    "print('Prediction for the training data')\n",
    "print('MSE:', mean_squared_error(y_train, y_pred_train))\n",
    "print('RMSE:',np.sqrt(mean_squared_error(y_train, y_pred_train)))\n",
    "print('-'*35)\n",
    "print('Prediction for the test data')\n",
    "print('MSE:', mean_squared_error(y_test, y_pred_test))\n",
    "print('RMSE:',np.sqrt(mean_squared_error(y_test, y_pred_test)))\n",
    "print('-'*35)"
   ]
  },
  {
   "cell_type": "markdown",
   "id": "e60c2f06",
   "metadata": {},
   "source": [
    "# Gradient boosting regression"
   ]
  },
  {
   "cell_type": "code",
   "execution_count": 35,
   "id": "d72d0151",
   "metadata": {},
   "outputs": [
    {
     "name": "stdout",
     "output_type": "stream",
     "text": [
      "-----------------------------------\n",
      "Prediction for the training data\n",
      "MSE: 132.6200835054261\n",
      "RMSE: 11.516079346089366\n",
      "-----------------------------------\n",
      "Prediction for the test data\n",
      "MSE: 138.26230799692624\n",
      "RMSE: 11.758499393924644\n",
      "-----------------------------------\n"
     ]
    }
   ],
   "source": [
    "model_gb = GradientBoostingRegressor(n_estimators=250, learning_rate=0.1, random_state=42)\n",
    "\n",
    "model_gb.fit(X_train, y_train)\n",
    "y_pred_test = model_gb.predict(X_test)\n",
    "y_pred_train = model_gb.predict(X_train)\n",
    "\n",
    "print('-'*35)\n",
    "print('Prediction for the training data')\n",
    "print('MSE:', mean_squared_error(y_train, y_pred_train))\n",
    "print('RMSE:',np.sqrt(mean_squared_error(y_train, y_pred_train)))\n",
    "print('-'*35)\n",
    "print('Prediction for the test data')\n",
    "print('MSE:', mean_squared_error(y_test, y_pred_test))\n",
    "print('RMSE:',np.sqrt(mean_squared_error(y_test, y_pred_test)))\n",
    "print('-'*35)"
   ]
  },
  {
   "cell_type": "markdown",
   "id": "382f8b8f",
   "metadata": {},
   "source": [
    "# Hist gradient boosting regression"
   ]
  },
  {
   "cell_type": "code",
   "execution_count": 36,
   "id": "9d98a3a7",
   "metadata": {},
   "outputs": [
    {
     "name": "stdout",
     "output_type": "stream",
     "text": [
      "-----------------------------------\n",
      "Prediction for the training data\n",
      "MSE: 92.71560821972642\n",
      "RMSE: 9.628894444313243\n",
      "-----------------------------------\n",
      "Prediction for the test data\n",
      "MSE: 99.27076665600632\n",
      "RMSE: 9.963471616660847\n",
      "-----------------------------------\n"
     ]
    }
   ],
   "source": [
    "model_hgb= HistGradientBoostingRegressor(learning_rate=0.1, random_state=42)\n",
    "\n",
    "model_hgb.fit(X_train, y_train)\n",
    "y_pred_test = model_hgb.predict(X_test)\n",
    "y_pred_train = model_hgb.predict(X_train)\n",
    "\n",
    "print('-'*35)\n",
    "print('Prediction for the training data')\n",
    "print('MSE:', mean_squared_error(y_train, y_pred_train))\n",
    "print('RMSE:',np.sqrt(mean_squared_error(y_train, y_pred_train)))\n",
    "print('-'*35)\n",
    "print('Prediction for the test data')\n",
    "print('MSE:', mean_squared_error(y_test, y_pred_test))\n",
    "print('RMSE:',np.sqrt(mean_squared_error(y_test, y_pred_test)))\n",
    "print('-'*35)"
   ]
  },
  {
   "cell_type": "markdown",
   "id": "97813b9d",
   "metadata": {},
   "source": [
    "## With cross_validation"
   ]
  },
  {
   "cell_type": "code",
   "execution_count": 37,
   "id": "7c0c3843",
   "metadata": {},
   "outputs": [
    {
     "name": "stdout",
     "output_type": "stream",
     "text": [
      "-----------------------------------\n",
      "Prediction for the training data\n",
      "mean MSE: 104.12262727565106\n",
      "std MSE: 1.7679667347746886\n",
      "mean RMSE: 10.204049552783006\n",
      "-----------------------------------\n",
      "Prediction for the test data\n",
      "test MSE: 99.27076665600632\n",
      "test RMSE: 9.963471616660847\n",
      "-----------------------------------\n"
     ]
    }
   ],
   "source": [
    "model_hgb= HistGradientBoostingRegressor(learning_rate=0.1, random_state=42)\n",
    "\n",
    "cv_scores = cross_val_score(model_hgb, X_train, y_train, cv=5, scoring='neg_mean_squared_error') \n",
    "\n",
    "print('-'*35)\n",
    "print('Prediction for the training data')\n",
    "print('mean MSE:',np.mean(-cv_scores))\n",
    "print('std MSE:',np.std(-cv_scores))\n",
    "print('mean RMSE:',np.sqrt(np.mean(-cv_scores)))\n",
    "\n",
    "model_hgb.fit(X_train, y_train)\n",
    "\n",
    "# predict y values for testing data set\n",
    "y_pred_test = model_hgb.predict(X_test)\n",
    "\n",
    "# evaluate MSE\n",
    "print('-'*35)\n",
    "print('Prediction for the test data')\n",
    "mse_test = mean_squared_error(y_test, y_pred_test)\n",
    "print('test MSE: {0}'.format(mse_test))\n",
    "print('test RMSE: {0}'.format(np.sqrt(mse_test)))\n",
    "print('-'*35)"
   ]
  },
  {
   "cell_type": "markdown",
   "id": "ded50b19",
   "metadata": {},
   "source": [
    "# Dummy model"
   ]
  },
  {
   "cell_type": "code",
   "execution_count": 38,
   "id": "40a4b296",
   "metadata": {},
   "outputs": [
    {
     "name": "stdout",
     "output_type": "stream",
     "text": [
      "Accuracy: 11.4121%\n",
      "-----------------------------------\n",
      "Prediction for the training data\n",
      "MSE: 568.8447078746825\n",
      "RMSE: 23.85046556934859\n",
      "-----------------------------------\n",
      "Prediction for the test data\n",
      "MSE: 568.856078564172\n",
      "RMSE: 23.85070394273871\n",
      "-----------------------------------\n"
     ]
    }
   ],
   "source": [
    "model_d = DummyClassifier(strategy='most_frequent')\n",
    "\n",
    "model_d.fit(X_train, y_train)\n",
    "y_pred_test = model_d.predict(X_test)\n",
    "y_pred_train = model_d.predict(X_train)\n",
    "\n",
    "# Calculate and print the model's accuracy on the test data\n",
    "print(f\"Accuracy: {accuracy_score(y_test, y_pred_test)*100:.4f}%\")\n",
    "print('-'*35)\n",
    "print('Prediction for the training data')\n",
    "print('MSE:', mean_squared_error(y_train, y_pred_train))\n",
    "print('RMSE:',np.sqrt(mean_squared_error(y_train, y_pred_train)))\n",
    "print('-'*35)\n",
    "print('Prediction for the test data')\n",
    "print('MSE:', mean_squared_error(y_test, y_pred_test))\n",
    "print('RMSE:',np.sqrt(mean_squared_error(y_test, y_pred_test)))\n",
    "print('-'*35)"
   ]
  },
  {
   "cell_type": "markdown",
   "id": "06e2b0c3",
   "metadata": {},
   "source": [
    "Scratch work"
   ]
  },
  {
   "cell_type": "code",
   "execution_count": 39,
   "id": "9c46ed2b",
   "metadata": {},
   "outputs": [],
   "source": [
    "# le = LabelEncoder()\n",
    "# for col in col_cat:\n",
    "#     df_explore[col] = le.fit_transform(df_explore[col])"
   ]
  },
  {
   "cell_type": "code",
   "execution_count": 40,
   "id": "1cf6730d",
   "metadata": {},
   "outputs": [],
   "source": [
    "# enc = OneHotEncoder(sparse_output=False, handle_unknown='ignore')\n",
    "# test = enc.fit(df_explore[col_num])\n",
    "\n",
    "# # Create an encoder \n",
    "# encoder= OneHotEncoder(sparse_output=False, handle_unknown='ignore') \n",
    " \n",
    "# # Train encoder using multiple columns\n",
    "# encoder.fit(df_explore[col_num]) \n",
    " \n",
    "# # Get encoded column names \n",
    "# encoded_columns=encoder.get_feature_names_out() \n",
    " \n",
    "# # Transform data using the trained encoder \n",
    "# encoded_data = encoder.transform(df_explore[col_num]) \n",
    " \n",
    "# # Create a dataframe using the encoded data \n",
    "# encoded_df=pd.DataFrame(encoded_data, columns=encoded_columns) \n",
    "# encoded_df"
   ]
  }
 ],
 "metadata": {
  "kernelspec": {
   "display_name": "07_stats",
   "language": "python",
   "name": "python3"
  },
  "language_info": {
   "codemirror_mode": {
    "name": "ipython",
    "version": 3
   },
   "file_extension": ".py",
   "mimetype": "text/x-python",
   "name": "python",
   "nbconvert_exporter": "python",
   "pygments_lexer": "ipython3",
   "version": "3.13.5"
  }
 },
 "nbformat": 4,
 "nbformat_minor": 5
}
